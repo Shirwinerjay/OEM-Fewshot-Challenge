{
 "cells": [
  {
   "cell_type": "markdown",
   "metadata": {},
   "source": [
    "##### OpenEarthMap Land Cover Mapping Few-Shot Challenge Baseline"
   ]
  },
  {
   "cell_type": "code",
   "execution_count": null,
   "metadata": {},
   "outputs": [],
   "source": [
    "# Clone github repository and install the requirements libraries\n",
    "# !git clone https://github.com/cliffbb/OEM-Fewshot-Challenge.git\n",
    "# !cd OEM-Fewshot-Challenge\n",
    "# !pip install -r requirements.txt"
   ]
  },
  {
   "cell_type": "code",
   "execution_count": null,
   "metadata": {},
   "outputs": [],
   "source": [
    "# import the necessary requirements\n",
    "import os\n",
    "import torch.multiprocessing as mp\n",
    "\n",
    "from src.utils import find_free_port, load_cfg_from_cfg_file\n",
    "from src.test import main_worker"
   ]
  },
  {
   "cell_type": "code",
   "execution_count": null,
   "metadata": {},
   "outputs": [],
   "source": [
    "# Load config file\n",
    "# Set the 'data_root' and 'pretrained' path in the the config file `eom.yaml` \n",
    "cfg_args = load_cfg_from_cfg_file('config/oem.yaml') "
   ]
  },
  {
   "cell_type": "code",
   "execution_count": null,
   "metadata": {},
   "outputs": [],
   "source": [
    "# Set the environment\n",
    "os.environ[\"CUDA_VISIBLE_DEVICES\"] = ','.join(str(x) for x in cfg_args.gpus)\n",
    "os.environ['OPENBLAS_NUM_THREADS'] = '1'\n",
    "world_size = len(cfg_args.gpus)\n",
    "distributed = world_size > 1\n",
    "assert not distributed, 'Testing should not be done in a distributed way'\n",
    "cfg_args.distributed = distributed\n",
    "cfg_args.port = find_free_port()"
   ]
  },
  {
   "cell_type": "code",
   "execution_count": null,
   "metadata": {},
   "outputs": [],
   "source": [
    "# Check for torch multiprocessing \n",
    "try:\n",
    "    mp.set_start_method('spawn')\n",
    "except RuntimeError:\n",
    "    pass\n",
    "\n",
    "# Call the `main_worker` function to run the few-shot evaluation\n",
    "mp.spawn(main_worker, args=(world_size, cfg_args ), nprocs=world_size, join=True)"
   ]
  },
  {
   "cell_type": "code",
   "execution_count": null,
   "metadata": {},
   "outputs": [],
   "source": []
  },
  {
   "cell_type": "code",
   "execution_count": null,
   "metadata": {},
   "outputs": [],
   "source": []
  }
 ],
 "metadata": {
  "kernelspec": {
   "display_name": "DIaM",
   "language": "python",
   "name": "python3"
  },
  "language_info": {
   "codemirror_mode": {
    "name": "ipython",
    "version": 3
   },
   "file_extension": ".py",
   "mimetype": "text/x-python",
   "name": "python",
   "nbconvert_exporter": "python",
   "pygments_lexer": "ipython3",
   "version": "3.8.13"
  }
 },
 "nbformat": 4,
 "nbformat_minor": 2
}
